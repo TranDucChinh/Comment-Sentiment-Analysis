{
 "cells": [
  {
   "cell_type": "code",
   "execution_count": 1,
   "id": "b510d58c",
   "metadata": {},
   "outputs": [],
   "source": [
    "from sklearn.feature_extraction.text import TfidfVectorizer\n",
    "from sklearn.cluster import KMeans\n",
    "from sklearn.metrics import accuracy_score, confusion_matrix, classification_report, f1_score\n",
    "from sklearn.feature_extraction.text import CountVectorizer"
   ]
  },
  {
   "cell_type": "code",
   "execution_count": 2,
   "id": "6d9fb795",
   "metadata": {},
   "outputs": [
    {
     "name": "stdout",
     "output_type": "stream",
     "text": [
      "<class 'pandas.core.frame.DataFrame'>\n",
      "RangeIndex: 27390 entries, 0 to 27389\n",
      "Data columns (total 2 columns):\n",
      " #   Column     Non-Null Count  Dtype \n",
      "---  ------     --------------  ----- \n",
      " 0   text       27390 non-null  object\n",
      " 1   sentiment  27390 non-null  int64 \n",
      "dtypes: int64(1), object(1)\n",
      "memory usage: 428.1+ KB\n"
     ]
    }
   ],
   "source": [
    "import pandas as pd\n",
    "import os\n",
    "train = pd.read_csv('processed_train.csv') \n",
    "test = pd.read_csv('processed_test.csv') \n",
    "train.info()"
   ]
  },
  {
   "cell_type": "code",
   "execution_count": 3,
   "id": "8cf4382d",
   "metadata": {},
   "outputs": [],
   "source": [
    "import seaborn as sns\n",
    "import matplotlib.pyplot as plt\n",
    "def model_eval(model):\n",
    "    model.fit(x_train,y_train)\n",
    "    y_pred=model.predict(x_test)\n",
    "    print(f'Accuracy Score is : {accuracy_score(y_test,y_pred)}')\n",
    "    print(f'Classification_report')\n",
    "    print(classification_report(y_test,y_pred))\n",
    "    print(f'Confusion Matrix')\n",
    "    cm=confusion_matrix(y_test,y_pred)\n",
    "    plt.figure(figsize=(8, 6))\n",
    "    sns.heatmap(cm, annot=True, fmt='d', cmap='Blues', xticklabels=['Negative', 'Neutral', 'Positive'], yticklabels=['Negative', 'Neutral', 'Positive'])\n",
    "    plt.xlabel('Predicted Labels')\n",
    "    plt.ylabel('True Labels')\n",
    "    plt.title('Confusion Matrix Heatmap')\n",
    "    plt.show()"
   ]
  },
  {
   "cell_type": "code",
   "execution_count": 4,
   "id": "b4f7c5e9",
   "metadata": {},
   "outputs": [],
   "source": [
    "def model_train(model):\n",
    "    model.fit(x_train, y_train)\n",
    "    y_pred = model.predict(x_test)\n",
    "    return f1_score(y_test, y_pred, average=\"weighted\")"
   ]
  },
  {
   "cell_type": "code",
   "execution_count": 5,
   "id": "5fe8f08d",
   "metadata": {},
   "outputs": [],
   "source": [
    "def tfidf_vectorizer():\n",
    "    vec=TfidfVectorizer(max_features=10000)\n",
    "    x_train=vec.fit_transform(train['text']).toarray()\n",
    "    x_test=vec.transform(test['text']).toarray()\n",
    "    y_train=train['sentiment']\n",
    "    y_test=test['sentiment']\n",
    "    return x_train, y_train, x_test, y_test\n",
    "\n",
    "def bog_vectorizer():\n",
    "    vec = CountVectorizer(max_features=10000)\n",
    "    x_train = vec.fit_transform(train['text']).toarray()\n",
    "    x_test = vec.transform(test['text']).toarray()\n",
    "    y_train = train['sentiment']\n",
    "    y_test = test['sentiment']\n",
    "    return x_train, y_train, x_test, y_test\n",
    "\n",
    "def binary_vectorizer():\n",
    "    vec = CountVectorizer(binary=True, max_features=10000)\n",
    "    x_train = vec.fit_transform(train['text']).toarray()\n",
    "    x_test = vec.transform(test['text']).toarray()\n",
    "    y_train = train['sentiment']\n",
    "    y_test = test['sentiment']\n",
    "    return x_train, y_train, x_test, y_test"
   ]
  },
  {
   "cell_type": "code",
   "execution_count": null,
   "id": "37022755",
   "metadata": {},
   "outputs": [],
   "source": [
    "best_f1 = 0\n",
    "metrics = ['euclidean', 'manhattan', 'cosine']\n",
    "for metric in metrics:\n",
    "    # TF-IDF Vectorizationbest_model = KMeans(n_clusters=3, random_state=42, algorithm='auto', init='k-means++', n_init=10)\n",
    "x_train, y_train, x_test, y_test = tfidf_vectorizer()\n",
    "model_eval(best_model)\n",
    "    x_train, y_train, x_test, y_test = tfidf_vectorizer()\n",
    "    kmeans = KMeans(n_clusters=3, random_state=42, algorithm='auto', init='k-means++', n_init=10)\n",
    "    kmeans.fit(x_train)\n",
    "    y_pred = kmeans.predict(x_test)\n",
    "    f1 = f1_score(y_test, y_pred, average=\"weighted\")\n",
    "    if f1 > best_f1:\n",
    "        best_f1 = f1\n",
    "        best_metric = metric\n",
    "        best_vectorization = 'TF-IDF'\n",
    "    print(f\"f1 score is {f1} with metric={metric}, vectorization=TF-IDF\")\n",
    "    \n",
    "    # Bag of Words Vectorization    \n",
    "    x_train, y_train, x_test, y_test = bog_vectorizer()\n",
    "    kmeans = KMeans(n_clusters=3, random_state=42, algorithm='auto', init='k-means++', n_init=10)\n",
    "    kmeans.fit(x_train)\n",
    "    y_pred = kmeans.predict(x_test)\n",
    "    f1 = f1_score(y_test, y_pred, average=\"weighted\")\n",
    "    if f1 > best_f1:\n",
    "        best_f1 = f1\n",
    "        best_metric = metric\n",
    "        best_vectorization = 'Bag of Words'\n",
    "    print(f\"f1 score is {f1} with metric={metric}, vectorization=Bag of Words\")\n",
    "    \n",
    "    # Binary Vectorization\n",
    "    x_train, y_train, x_test, y_test = binary_vectorizer()\n",
    "    kmeans = KMeans(n_clusters=3, random_state=42, algorithm='auto', init='k-means++', n_init=10)\n",
    "    kmeans.fit(x_train)\n",
    "    y_pred = kmeans.predict(x_test)\n",
    "    f1 = f1_score(y_test, y_pred, average=\"weighted\")\n",
    "    if f1 > best_f1:\n",
    "        best_f1 = f1\n",
    "        best_metric = metric\n",
    "        best_vectorization = 'Binary'\n",
    "    print(f\"f1 score is {f1} with metric={metric}, vectorization=Binary\")\n",
    "\n",
    "print(f\"Best f1 score is {best_f1} with metric={best_metric}, vectorization={best_vectorization}\")\n"
   ]
  },
  {
   "cell_type": "code",
   "execution_count": 7,
   "id": "e1df3afd",
   "metadata": {},
   "outputs": [
    {
     "name": "stderr",
     "output_type": "stream",
     "text": [
      "C:\\Users\\Admin\\anaconda3\\lib\\site-packages\\sklearn\\cluster\\_kmeans.py:1366: FutureWarning: algorithm='auto' is deprecated, it will be removed in 1.3. Using 'lloyd' instead.\n",
      "  warnings.warn(\n"
     ]
    },
    {
     "name": "stdout",
     "output_type": "stream",
     "text": [
      "Accuracy Score is : 0.415506958250497\n",
      "Classification_report\n",
      "              precision    recall  f1-score   support\n",
      "\n",
      "           0       0.12      0.03      0.04      1000\n",
      "           1       0.42      0.96      0.59      1418\n",
      "           2       0.83      0.06      0.12      1103\n",
      "\n",
      "    accuracy                           0.42      3521\n",
      "   macro avg       0.46      0.35      0.25      3521\n",
      "weighted avg       0.46      0.42      0.29      3521\n",
      "\n",
      "Confusion Matrix\n"
     ]
    },
    {
     "data": {
      "image/png": "[encoded data removed]",
      "text/plain": [
       "<Figure size 800x600 with 2 Axes>"
      ]
     },
     "metadata": {},
     "output_type": "display_data"
    }
   ],
   "source": [
    "best_model = KMeans(n_clusters=3, random_state=42, algorithm='auto', init='k-means++', n_init=10)\n",
    "x_train, y_train, x_test, y_test = tfidf_vectorizer()\n",
    "model_eval(best_model)"
   ]
  },
  {
   "cell_type": "code",
   "execution_count": null,
   "id": "edc94712",
   "metadata": {},
   "outputs": [],
   "source": [
    "from sklearn.cluster import KMeans\n",
    "from sklearn_extra.cluster import KMedoids\n",
    "from sklearn.metrics import f1_score, pairwise_distances\n",
    "from sklearn.model_selection import ParameterGrid\n",
    "import numpy as np\n",
    "\n",
    "# Sample hyperparameter grid\n",
    "param_grid = {\n",
    "    'n_clusters': [3],\n",
    "    'init': ['k-means++', 'random'],\n",
    "    'n_init': [5, 10, 20, 30, 40, 50],\n",
    "    'max_iter': [100, 300, 500, 700, 900]\n",
    "}\n",
    "\n",
    "metrics = ['euclidean', 'manhattan', 'cosine']\n",
    "vectorizers = {\n",
    "    'TF-IDF': tfidf_vectorizer,\n",
    "    'Bag of Words': bog_vectorizer,\n",
    "    'Binary': binary_vectorizer\n",
    "}\n",
    "\n",
    "best_f1 = 0\n",
    "\n",
    "for metric in metrics:\n",
    "    for vec_name, vectorizer in vectorizers.items():\n",
    "        x_train, y_train, x_test, y_test = vectorizer()\n",
    "        \n",
    "        # Use pairwise distance matrix for non-euclidean metrics\n",
    "        if metric == 'euclidean':\n",
    "            for params in ParameterGrid(param_grid):\n",
    "                model = KMeans(**params, random_state=42)\n",
    "                model.fit(x_train)\n",
    "                y_pred = model.predict(x_test)\n",
    "                f1 = f1_score(y_test, y_pred, average='weighted')\n",
    "                \n",
    "                if f1 > best_f1:\n",
    "                    best_f1 = f1\n",
    "                    best_metric = metric\n",
    "                    best_vectorization = vec_name\n",
    "                    best_params = params\n",
    "                print(f\"F1 score={f1:.4f} with metric={metric}, vectorizer={vec_name}, params={params}\")\n",
    "        else:\n",
    "            # For manhattan & cosine, use KMedoids with precomputed distance\n",
    "            dist_train = pairwise_distances(x_train, metric=metric)\n",
    "            dist_test = pairwise_distances(x_test, x_train, metric=metric)\n",
    "\n",
    "            for params in ParameterGrid(param_grid):\n",
    "                model = KMedoids(metric='precomputed', n_clusters=params['n_clusters'], init='heuristic', max_iter=params['max_iter'], random_state=42)\n",
    "                model.fit(dist_train)\n",
    "\n",
    "                # Map x_test to closest medoid cluster\n",
    "                y_pred = model.predict(dist_test)\n",
    "                f1 = f1_score(y_test, y_pred, average='weighted')\n",
    "\n",
    "                if f1 > best_f1:\n",
    "                    best_f1 = f1\n",
    "                    best_metric = metric\n",
    "                    best_vectorization = vec_name\n",
    "                    best_params = params\n",
    "                print(f\"F1 score={f1:.4f} with metric={metric}, vectorizer={vec_name}, params={params}\")\n",
    "\n",
    "print(f\"\\nBest F1 Score = {best_f1:.4f} with metric = {best_metric}, vectorizer = {best_vectorization}, params = {best_params}\")\n"
   ]
  },
  {
   "cell_type": "code",
   "execution_count": 10,
   "id": "d4ffe3e5",
   "metadata": {},
   "outputs": [
    {
     "name": "stdout",
     "output_type": "stream",
     "text": [
      "Collecting scikit-learn-extra\n",
      "  Downloading scikit_learn_extra-0.3.0-cp310-cp310-win_amd64.whl (343 kB)\n",
      "     -------------------------------------- 343.0/343.0 kB 1.6 MB/s eta 0:00:00\n",
      "Requirement already satisfied: numpy>=1.13.3 in c:\\users\\admin\\anaconda3\\lib\\site-packages (from scikit-learn-extra) (1.23.5)\n",
      "Requirement already satisfied: scipy>=0.19.1 in c:\\users\\admin\\anaconda3\\lib\\site-packages (from scikit-learn-extra) (1.10.0)\n",
      "Requirement already satisfied: scikit-learn>=0.23.0 in c:\\users\\admin\\anaconda3\\lib\\site-packages (from scikit-learn-extra) (1.2.1)\n",
      "Requirement already satisfied: joblib>=1.1.1 in c:\\users\\admin\\anaconda3\\lib\\site-packages (from scikit-learn>=0.23.0->scikit-learn-extra) (1.1.1)\n",
      "Requirement already satisfied: threadpoolctl>=2.0.0 in c:\\users\\admin\\anaconda3\\lib\\site-packages (from scikit-learn>=0.23.0->scikit-learn-extra) (2.2.0)\n",
      "Installing collected packages: scikit-learn-extra\n",
      "Successfully installed scikit-learn-extra-0.3.0\n"
     ]
    }
   ],
   "source": [
    "!pip install scikit-learn-extra"
   ]
  },
  {
   "cell_type": "code",
   "execution_count": null,
   "id": "14715228",
   "metadata": {},
   "outputs": [],
   "source": []
  }
 ],
 "metadata": {
  "kernelspec": {
   "display_name": "Python 3 (ipykernel)",
   "language": "python",
   "name": "python3"
  },
  "language_info": {
   "codemirror_mode": {
    "name": "ipython",
    "version": 3
   },
   "file_extension": ".py",
   "mimetype": "text/x-python",
   "name": "python",
   "nbconvert_exporter": "python",
   "pygments_lexer": "ipython3",
   "version": "3.10.9"
  }
 },
 "nbformat": 4,
 "nbformat_minor": 5
}
