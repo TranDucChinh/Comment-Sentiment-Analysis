{
 "cells": [
  {
   "cell_type": "code",
   "execution_count": 1,
   "id": "1b344f46",
   "metadata": {},
   "outputs": [],
   "source": [
    "from sklearn.feature_extraction.text import TfidfVectorizer\n",
    "from sklearn.feature_extraction.text import CountVectorizer\n",
    "import joblib\n",
    "import os\n",
    "import pandas as pd\n",
    "import gzip"
   ]
  },
  {
   "cell_type": "code",
   "execution_count": 2,
   "id": "86674206",
   "metadata": {},
   "outputs": [],
   "source": [
    "def transform_label(num):\n",
    "    if num == 0:\n",
    "        return 'negative'\n",
    "    elif num == 1:\n",
    "        return 'neutral'\n",
    "    elif num == 2:\n",
    "        return 'positive'\n",
    "    else:\n",
    "        raise ValueError(\"Invalid label\")"
   ]
  },
  {
   "cell_type": "code",
   "execution_count": 3,
   "id": "ca159349",
   "metadata": {},
   "outputs": [],
   "source": [
    "train = pd.read_csv('data/processed_train.csv')\n",
    "tfidf_vec = TfidfVectorizer(max_features=10000).fit(train['text'])\n",
    "bog_vec = CountVectorizer(max_features=10000).fit(train['text'])\n",
    "binary_vec = CountVectorizer(max_features=10000, binary=True).fit(train['text'])"
   ]
  },
  {
   "cell_type": "code",
   "execution_count": 5,
   "id": "792fa5c9",
   "metadata": {},
   "outputs": [],
   "source": [
    "k_means_model = joblib.load('weights/k_means.pkl')\n",
    "random_forest_model = joblib.load('weights/random_forest.pkl')\n",
    "logistic_model = joblib.load('weights/logistic_regression.pkl')\n",
    "with gzip.open(\"weights/knn.pkl.gz\", \"rb\") as f:\n",
    "    knn_model = joblib.load(f)\n",
    "with gzip.open(\"weights/svm.pkl.gz\", \"rb\") as f:\n",
    "    svm_model = joblib.load(f)"
   ]
  },
  {
   "cell_type": "code",
   "execution_count": 6,
   "id": "deebf2cf",
   "metadata": {},
   "outputs": [],
   "source": [
    "def inference(model, text):\n",
    "    if model == 'knn':\n",
    "        x_predict = tfidf_vec.transform([text]).toarray()\n",
    "        sentiment = transform_label(knn_model.predict(x_predict))\n",
    "    elif model == 'random_forest':\n",
    "        x_predict = bog_vec.transform([text]).toarray()\n",
    "        sentiment = transform_label(random_forest_model.predict(x_predict))\n",
    "    elif model == 'logistic_regression':\n",
    "        x_predict = bog_vec.transform([text]).toarray()\n",
    "        sentiment = transform_label(logistic_model.predict(x_predict))\n",
    "    elif model == 'svm':\n",
    "        x_predict = tfidf_vec.transform([text]).toarray()\n",
    "        sentiment = transform_label(svm_model.predict(x_predict))\n",
    "    elif model == 'kmeans':\n",
    "        x_predict = tfidf_vec.transform([text]).toarray()\n",
    "        sentiment = transform_label(k_means_model.predict(x_predict))\n",
    "    return sentiment"
   ]
  },
  {
   "cell_type": "code",
   "execution_count": 9,
   "id": "b7fcde14",
   "metadata": {},
   "outputs": [
    {
     "name": "stdout",
     "output_type": "stream",
     "text": [
      "positive\n"
     ]
    }
   ],
   "source": [
    "print(inference('svm', 'I love this product!'))"
   ]
  }
 ],
 "metadata": {
  "kernelspec": {
   "display_name": "Python 3",
   "language": "python",
   "name": "python3"
  },
  "language_info": {
   "codemirror_mode": {
    "name": "ipython",
    "version": 3
   },
   "file_extension": ".py",
   "mimetype": "text/x-python",
   "name": "python",
   "nbconvert_exporter": "python",
   "pygments_lexer": "ipython3",
   "version": "3.9.13"
  }
 },
 "nbformat": 4,
 "nbformat_minor": 5
}
